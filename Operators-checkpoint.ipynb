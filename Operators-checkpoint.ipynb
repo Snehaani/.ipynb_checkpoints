{
 "cells": [
  {
   "cell_type": "markdown",
   "id": "dd13cf2d",
   "metadata": {},
   "source": [
    "# Arithmatic Operator"
   ]
  },
  {
   "cell_type": "code",
   "execution_count": 1,
   "id": "3de0b396",
   "metadata": {},
   "outputs": [],
   "source": [
    "#addition, subtraction, multiplication, division, modulus(%), exponentiation(**),floor division(//) \n",
    "\n",
    "#modulus - In the usual division case the quotient before decimal will be the modulus\n",
    "#exponentiation - this will be using as a power (2 to the power of 10)\n",
    "#floor division - In usual division case the remainder before achiving 0 will the floor division"
   ]
  },
  {
   "cell_type": "code",
   "execution_count": 5,
   "id": "1d3013a5",
   "metadata": {},
   "outputs": [
    {
     "data": {
      "text/plain": [
       "2"
      ]
     },
     "execution_count": 5,
     "metadata": {},
     "output_type": "execute_result"
    }
   ],
   "source": [
    "#Floor division\n",
    "\n",
    "(8//3)"
   ]
  },
  {
   "cell_type": "code",
   "execution_count": 10,
   "id": "d9183faf",
   "metadata": {},
   "outputs": [
    {
     "data": {
      "text/plain": [
       "2"
      ]
     },
     "execution_count": 10,
     "metadata": {},
     "output_type": "execute_result"
    }
   ],
   "source": [
    "#modulus\n",
    "\n",
    "(14%3)"
   ]
  },
  {
   "cell_type": "code",
   "execution_count": 11,
   "id": "23565e5c",
   "metadata": {},
   "outputs": [
    {
     "data": {
      "text/plain": [
       "1024"
      ]
     },
     "execution_count": 11,
     "metadata": {},
     "output_type": "execute_result"
    }
   ],
   "source": [
    "#exponentiation\n",
    "\n",
    "(2**10)"
   ]
  },
  {
   "cell_type": "markdown",
   "id": "845f3afc",
   "metadata": {},
   "source": [
    "# Comparison operators"
   ]
  },
  {
   "cell_type": "code",
   "execution_count": null,
   "id": "76b81d90",
   "metadata": {},
   "outputs": [],
   "source": [
    "==,>,<,>=,<=,!=\n",
    "\n",
    "#explination is known so not working with an examples\n"
   ]
  },
  {
   "cell_type": "markdown",
   "id": "77881cc7",
   "metadata": {},
   "source": [
    "# Logical operator"
   ]
  },
  {
   "cell_type": "code",
   "execution_count": null,
   "id": "24930e98",
   "metadata": {},
   "outputs": [],
   "source": [
    "#AND - both are T the value will be true and remaining all the cases values will be F\n",
    "#OR - if anyone is T then it will be T,\n",
    "#NOT - 0 - 1, 1- 0"
   ]
  },
  {
   "cell_type": "markdown",
   "id": "511924cd",
   "metadata": {},
   "source": [
    "# Assignment operator"
   ]
  },
  {
   "cell_type": "code",
   "execution_count": null,
   "id": "05a1ba0c",
   "metadata": {},
   "outputs": [],
   "source": [
    "##Assign some value to the variable\n",
    "\n",
    "#= --> equal operator(score = 0)\n",
    "#+= --> (score = score + 1) or score += 1\n",
    "#-= --> (score = score - 1) or score -= 1\n",
    "#*= --> (score = score * 1) or score *= 1"
   ]
  },
  {
   "cell_type": "markdown",
   "id": "5e14f4f0",
   "metadata": {},
   "source": [
    "# Identity operator"
   ]
  },
  {
   "cell_type": "code",
   "execution_count": 12,
   "id": "4d828647",
   "metadata": {},
   "outputs": [
    {
     "name": "stdout",
     "output_type": "stream",
     "text": [
      "False\n"
     ]
    }
   ],
   "source": [
    "#Identity operator will check for the value of the variable are of the same or not\n",
    "\n",
    "x= \"sneha\"\n",
    "y= 23\n",
    "\n",
    "print(x is y)"
   ]
  },
  {
   "cell_type": "code",
   "execution_count": 13,
   "id": "4f8df1b5",
   "metadata": {},
   "outputs": [
    {
     "name": "stdout",
     "output_type": "stream",
     "text": [
      "True\n"
     ]
    }
   ],
   "source": [
    "print(x is not y)"
   ]
  },
  {
   "cell_type": "code",
   "execution_count": 15,
   "id": "7535d090",
   "metadata": {},
   "outputs": [
    {
     "name": "stdout",
     "output_type": "stream",
     "text": [
      "True\n"
     ]
    }
   ],
   "source": [
    "# value of both the variable is true so x = y\n",
    "x= \"sneha\"\n",
    "y= \"sneha\"\n",
    "\n",
    "print(x is y)"
   ]
  },
  {
   "cell_type": "markdown",
   "id": "fa4c98f9",
   "metadata": {},
   "source": [
    "# Bitwise Operator"
   ]
  },
  {
   "cell_type": "code",
   "execution_count": null,
   "id": "30e04500",
   "metadata": {},
   "outputs": [],
   "source": [
    "#Bitwise operator will be used only on binary numbers\n",
    "\n",
    "#AND(&)\n",
    "#OR(|)\n",
    "#XOR(^) --> Both are T then 0 Both are false then 0 \n",
    "#left shift fill zero(>>) --> this will cancel the last 2 values and add 2 zero's in the beginning\n",
    "#Right shift fill zero(<<) --> This will not cancel any values but just adds the values at the end."
   ]
  },
  {
   "cell_type": "code",
   "execution_count": 18,
   "id": "e43970c5",
   "metadata": {},
   "outputs": [
    {
     "name": "stdout",
     "output_type": "stream",
     "text": [
      "2\n"
     ]
    }
   ],
   "source": [
    "print(10 & 2)"
   ]
  },
  {
   "cell_type": "code",
   "execution_count": 19,
   "id": "351f3a4b",
   "metadata": {},
   "outputs": [
    {
     "name": "stdout",
     "output_type": "stream",
     "text": [
      "10\n"
     ]
    }
   ],
   "source": [
    "print(10 | 2)"
   ]
  },
  {
   "cell_type": "code",
   "execution_count": 21,
   "id": "aa3832f2",
   "metadata": {},
   "outputs": [
    {
     "name": "stdout",
     "output_type": "stream",
     "text": [
      "2\n"
     ]
    }
   ],
   "source": [
    "print(10 ^ 8)"
   ]
  },
  {
   "cell_type": "code",
   "execution_count": 22,
   "id": "582d8942",
   "metadata": {},
   "outputs": [
    {
     "name": "stdout",
     "output_type": "stream",
     "text": [
      "40\n"
     ]
    }
   ],
   "source": [
    "#Right shift\n",
    "\n",
    "print(10<<2)"
   ]
  },
  {
   "cell_type": "code",
   "execution_count": 23,
   "id": "0f445ea4",
   "metadata": {},
   "outputs": [
    {
     "name": "stdout",
     "output_type": "stream",
     "text": [
      "5\n"
     ]
    }
   ],
   "source": [
    "#left shift\n",
    "\n",
    "print(10>>1)"
   ]
  },
  {
   "cell_type": "markdown",
   "id": "01639039",
   "metadata": {},
   "source": [
    "# Membership operator"
   ]
  },
  {
   "cell_type": "code",
   "execution_count": 26,
   "id": "46ee4cd8",
   "metadata": {},
   "outputs": [
    {
     "name": "stdout",
     "output_type": "stream",
     "text": [
      "False\n",
      "True\n"
     ]
    }
   ],
   "source": [
    "#Here will verify the character is present or not in that variable\n",
    "\n",
    "#There are 2 operator in membership\n",
    "#1. in\n",
    "#2. not in\n",
    "# this is case sensitive.\n",
    "\n",
    "a= \"sneha\"\n",
    "\n",
    "print(\"M\" in a)\n",
    "\n",
    "print(\"M\" not in a)"
   ]
  },
  {
   "cell_type": "code",
   "execution_count": 28,
   "id": "c0644fa7",
   "metadata": {},
   "outputs": [
    {
     "name": "stdout",
     "output_type": "stream",
     "text": [
      "True\n"
     ]
    }
   ],
   "source": [
    "print(\"n\" in a)"
   ]
  },
  {
   "cell_type": "code",
   "execution_count": null,
   "id": "510f9e41",
   "metadata": {},
   "outputs": [],
   "source": []
  },
  {
   "cell_type": "code",
   "execution_count": null,
   "id": "e3521d7b",
   "metadata": {},
   "outputs": [],
   "source": []
  },
  {
   "cell_type": "code",
   "execution_count": null,
   "id": "3abd301f",
   "metadata": {},
   "outputs": [],
   "source": []
  },
  {
   "cell_type": "code",
   "execution_count": null,
   "id": "ddfda5f4",
   "metadata": {},
   "outputs": [],
   "source": []
  },
  {
   "cell_type": "code",
   "execution_count": null,
   "id": "95845bb0",
   "metadata": {},
   "outputs": [],
   "source": []
  },
  {
   "cell_type": "code",
   "execution_count": null,
   "id": "7c7709ee",
   "metadata": {},
   "outputs": [],
   "source": []
  },
  {
   "cell_type": "code",
   "execution_count": null,
   "id": "1f84429f",
   "metadata": {},
   "outputs": [],
   "source": []
  },
  {
   "cell_type": "code",
   "execution_count": null,
   "id": "cc604cc0",
   "metadata": {},
   "outputs": [],
   "source": []
  },
  {
   "cell_type": "code",
   "execution_count": null,
   "id": "d6353f02",
   "metadata": {},
   "outputs": [],
   "source": []
  },
  {
   "cell_type": "code",
   "execution_count": null,
   "id": "76fbbfba",
   "metadata": {},
   "outputs": [],
   "source": []
  },
  {
   "cell_type": "code",
   "execution_count": null,
   "id": "480bdcd8",
   "metadata": {},
   "outputs": [],
   "source": []
  },
  {
   "cell_type": "code",
   "execution_count": null,
   "id": "cd91881a",
   "metadata": {},
   "outputs": [],
   "source": []
  },
  {
   "cell_type": "code",
   "execution_count": null,
   "id": "d37407a4",
   "metadata": {},
   "outputs": [],
   "source": []
  },
  {
   "cell_type": "code",
   "execution_count": null,
   "id": "5a294027",
   "metadata": {},
   "outputs": [],
   "source": []
  }
 ],
 "metadata": {
  "kernelspec": {
   "display_name": "Python 3 (ipykernel)",
   "language": "python",
   "name": "python3"
  },
  "language_info": {
   "codemirror_mode": {
    "name": "ipython",
    "version": 3
   },
   "file_extension": ".py",
   "mimetype": "text/x-python",
   "name": "python",
   "nbconvert_exporter": "python",
   "pygments_lexer": "ipython3",
   "version": "3.10.1"
  }
 },
 "nbformat": 4,
 "nbformat_minor": 5
}
