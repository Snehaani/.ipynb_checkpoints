{
 "cells": [
  {
   "cell_type": "code",
   "execution_count": 3,
   "id": "2f6a59cd",
   "metadata": {},
   "outputs": [
    {
     "name": "stdout",
     "output_type": "stream",
     "text": [
      "Sneha\n",
      "23\n",
      "Bengaluru\n"
     ]
    }
   ],
   "source": [
    "print(\"Sneha\")\n",
    "print (23)\n",
    "print (\"Bengaluru\")\n"
   ]
  },
  {
   "cell_type": "code",
   "execution_count": 4,
   "id": "18e895fd",
   "metadata": {},
   "outputs": [
    {
     "name": "stdout",
     "output_type": "stream",
     "text": [
      "<class 'int'>\n"
     ]
    }
   ],
   "source": [
    "a = 2.34\n",
    "b = 4\n",
    "\n",
    "c=a+b\n",
    "\n",
    "d= int(c)\n",
    "d\n",
    "\n",
    "print (type(d))"
   ]
  },
  {
   "cell_type": "code",
   "execution_count": null,
   "id": "ac5f03e0",
   "metadata": {},
   "outputs": [],
   "source": [
    "Name  = input(\"Enter your name here: \")\n",
    "Name\n",
    "\n",
    "Phone_No = int(input(\"Enter your Phone Number: \"))\n",
    "Phone_No\n",
    "\n",
    "Address = input(\"Enter your address: \")\n",
    "Address\n",
    "print(\"Student Details for the identity card\")\n",
    "#print(Name)\n",
    "#print(Phone_No)\n",
    "#print(Address)"
   ]
  },
  {
   "cell_type": "code",
   "execution_count": null,
   "id": "8017e451",
   "metadata": {},
   "outputs": [],
   "source": [
    "#Swaping numbers using temp variable\n",
    "\n",
    "x=6\n",
    "y = 4\n",
    "\n",
    "temp = x\n",
    "x = y\n",
    "y = temp\n",
    "\n",
    "print(y)\n",
    "print(x)\n"
   ]
  },
  {
   "cell_type": "code",
   "execution_count": null,
   "id": "78655230",
   "metadata": {},
   "outputs": [
    {
     "name": "stdout",
     "output_type": "stream",
     "text": [
      "20\n",
      "10\n"
     ]
    }
   ],
   "source": [
    "#swaping numbers without temp variable\n",
    "\n",
    "a=10\n",
    "b=20\n",
    "\n",
    "a,b = b,a\n",
    "\n",
    "print(a)\n",
    "print(b)"
   ]
  },
  {
   "cell_type": "code",
   "execution_count": null,
   "id": "cb343e11",
   "metadata": {},
   "outputs": [
    {
     "name": "stdout",
     "output_type": "stream",
     "text": [
      "<class 'float'>\n",
      "<class 'int'>\n",
      "36\n"
     ]
    }
   ],
   "source": [
    "#converting float to int\n",
    "\n",
    "x=36.99\n",
    "\n",
    "print (type(x))\n",
    "\n",
    "y = int(x)\n",
    "print(type(y))\n",
    "print(y)\n"
   ]
  },
  {
   "cell_type": "code",
   "execution_count": 4,
   "id": "f7ff78c6",
   "metadata": {},
   "outputs": [
    {
     "name": "stdout",
     "output_type": "stream",
     "text": [
      "Enter your name here: Sneha Manjunatha\n",
      "Enter your Phone Number: 94749574495\n",
      "Enter your address: Muddanahalli\n",
      "Student Details for the identity card\n",
      "Sneha Manjunatha\n",
      "94749574495\n",
      "Muddanahalli\n"
     ]
    }
   ],
   "source": [
    "Name  = input(\"Enter your name here: \")\n",
    "Name\n",
    "\n",
    "Phone_No = int(input(\"Enter your Phone Number: \"))\n",
    "Phone_No\n",
    "\n",
    "Address = input(\"Enter your address: \")\n",
    "Address\n",
    "\n",
    "print(\"Student Details for the identity card\")\n",
    "print(Name)\n",
    "print(Phone_No)\n",
    "print(Address)"
   ]
  }
 ],
 "metadata": {
  "kernelspec": {
   "display_name": "Python 3 (ipykernel)",
   "language": "python",
   "name": "python3"
  },
  "language_info": {
   "codemirror_mode": {
    "name": "ipython",
    "version": 3
   },
   "file_extension": ".py",
   "mimetype": "text/x-python",
   "name": "python",
   "nbconvert_exporter": "python",
   "pygments_lexer": "ipython3",
   "version": "3.10.1"
  }
 },
 "nbformat": 4,
 "nbformat_minor": 5
}
